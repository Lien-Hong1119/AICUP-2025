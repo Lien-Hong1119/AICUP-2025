{
 "nbformat": 4,
 "nbformat_minor": 0,
 "metadata": {
  "colab": {
   "provenance": []
  },
  "kernelspec": {
   "name": "python3",
   "display_name": "Python 3 (ipykernel)",
   "language": "python"
  },
  "language_info": {
   "name": "python"
  }
 },
 "cells": [
  {
   "metadata": {},
   "cell_type": "code",
   "source": [
    "import os\n",
    "from pathlib import Path\n",
    "from groq import Groq\n",
    "from pathlib import Path\n",
    "import whisperx\n",
    "import torch\n",
    "import json\n",
    "from tqdm import tqdm  # ← 這樣匯入的是函數，而非整個模組\n",
    "import difflib\n",
    "import re\n",
    "import json\n",
    "from pathlib import Path\n",
    "from collections import defaultdict\n",
    "\n",
    "base_path = Path(r\"your_path\")\n",
    "Validation_Dataset_Formal_entity= base_path / \"Validation_Dataset_Formal_entity.json\"\n",
    "Validation_Dataset_Formal_task2_answer = base_path / \"Validation_Dataset_Formal_task2_answer.txt\""
   ],
   "outputs": [],
   "execution_count": null
  },
  {
   "metadata": {},
   "cell_type": "markdown",
   "source": "## 類別設定"
  },
  {
   "metadata": {},
   "cell_type": "code",
   "source": [
    "category_order = [\n",
    "    'PATIENT', 'DOCTOR', 'USERNAME', 'PERSONALNAME', 'FAMILYNAME', 'PROFESSION',\n",
    "    'ROOM', 'DEPARTMENT', 'HOSPITAL', 'ORGANIZATION', 'STREET', 'CITY', 'STATE',\n",
    "    'COUNTRY', 'COUNTY', 'ZIP', 'LOCATION-OTHER', 'DISTRICT', 'AGE', 'DATE',\n",
    "    'TIME', 'DURATION', 'SET', 'PHONE', 'FAX', 'EMAIL', 'URL', 'IPADDRESS',\n",
    "    'OTHER', 'SOCIAL_SECURITY_NUMBER', 'MEDICAL_RECORD_NUMBER', 'HEALTH_PLAN_NUMBER',\n",
    "    'ACCOUNT_NUMBER', 'LICENSE_NUMBER', 'VEHICLE_ID', 'DEVICE_ID', 'BIOMETRIC_ID',\n",
    "    'ID_NUMBER'\n",
    "]"
   ],
   "outputs": [],
   "execution_count": null
  },
  {
   "metadata": {},
   "cell_type": "code",
   "source": [
    "entity_to_categories = defaultdict(set)\n",
    "category_to_entities = defaultdict(set)\n",
    "entity_to_fid_category = defaultdict(list)\n",
    "\n",
    "# 讀取 task2_answer.txt\n",
    "with open(Validation_Dataset_Formal_task2_answer, encoding=\"utf-8\") as fin:\n",
    "    for line in fin:\n",
    "        parts = line.strip().split(\"\\t\")\n",
    "        if len(parts) >= 5:\n",
    "            fid, category, _, _, entity = parts\n",
    "            fid = fid.strip()\n",
    "            category = category.strip()\n",
    "            entity = entity.strip()\n",
    "            entity_to_categories[entity].add(category)\n",
    "            category_to_entities[category].add(entity)\n",
    "            entity_to_fid_category[entity].append((fid, category))\n",
    "\n",
    "# 找出同時出現在多個類別的實體\n",
    "conflicted_entities = {e for e, cats in entity_to_categories.items() if len(cats) > 1}\n",
    "\n",
    "# 印出衝突實體與其出現過的類別與 FID\n",
    "print(\"=== ⚠️ 以下為重複出現在多個類別的實體（已排除） ===\")\n",
    "for entity in sorted(conflicted_entities):\n",
    "    print(f\"\\n❗ 重複實體: \\\"{entity}\\\"\")\n",
    "    for fid, category in entity_to_fid_category[entity]:\n",
    "        print(f\"   - 出現在 FID {fid}，類別：{category}\")\n",
    "print(f\"\\n共 {len(conflicted_entities)} 筆重複實體\\n\")\n",
    "\n",
    "# 確保所有類別都至少存在（即使是空集合）\n",
    "for cat in category_order:\n",
    "    category_to_entities.setdefault(cat, set())\n",
    "\n",
    "# 建立結果（保留順序）\n",
    "result = [\n",
    "    {category: sorted([e for e in category_to_entities[category] if e not in conflicted_entities])}\n",
    "    for category in category_order\n",
    "]\n",
    "\n",
    "# 輸出 JSON\n",
    "with open(Validation_Dataset_Formal_entity, \"w\", encoding=\"utf-8\") as fout:\n",
    "    json.dump(result, fout, indent=2, ensure_ascii=False)\n",
    "\n",
    "print(f\"✅ JSON 輸出完成：{Validation_Dataset_Formal_entity}\")"
   ],
   "outputs": [],
   "execution_count": null
  }
 ]
}
